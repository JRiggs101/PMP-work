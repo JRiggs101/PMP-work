{
 "cells": [
  {
   "cell_type": "code",
   "execution_count": null,
   "metadata": {},
   "outputs": [],
   "source": [
    "import pandas as pd"
   ]
  },
  {
   "cell_type": "code",
   "execution_count": null,
   "metadata": {},
   "outputs": [],
   "source": [
    "metrics = pd.read_csv('GatewayManagement4457.csv', index_col=None)"
   ]
  },
  {
   "cell_type": "code",
   "execution_count": null,
   "metadata": {},
   "outputs": [],
   "source": [
    "metrics.head()"
   ]
  },
  {
   "attachments": {},
   "cell_type": "markdown",
   "metadata": {},
   "source": [
    "Number of Granted and Denied"
   ]
  },
  {
   "cell_type": "code",
   "execution_count": null,
   "metadata": {},
   "outputs": [],
   "source": [
    "metrics['Auth. Status'].fillna(\"N/A\", inplace=True)\n",
    "metrics['Auth. Status'].value_counts()"
   ]
  },
  {
   "attachments": {},
   "cell_type": "markdown",
   "metadata": {},
   "source": [
    "State Numbers for Connections"
   ]
  },
  {
   "cell_type": "code",
   "execution_count": null,
   "metadata": {},
   "outputs": [],
   "source": [
    "metrics['State(s) Located In'].value_counts()"
   ]
  },
  {
   "cell_type": "code",
   "execution_count": null,
   "metadata": {},
   "outputs": [],
   "source": [
    "unique_values = len(pd.unique(metrics['Licensee']))\n",
    "print(\"# of Unique ID: \" + str(unique_values))"
   ]
  },
  {
   "attachments": {},
   "cell_type": "markdown",
   "metadata": {},
   "source": [
    "There are duplicates according to the Unique Value Parameter."
   ]
  },
  {
   "cell_type": "code",
   "execution_count": null,
   "metadata": {},
   "outputs": [],
   "source": [
    "metrics.duplicated(keep=False)"
   ]
  },
  {
   "attachments": {},
   "cell_type": "markdown",
   "metadata": {},
   "source": [
    "Duplicates Should all be deleted due to the code below"
   ]
  },
  {
   "cell_type": "code",
   "execution_count": null,
   "metadata": {},
   "outputs": [],
   "source": [
    "metrics = metrics.drop_duplicates()"
   ]
  },
  {
   "cell_type": "code",
   "execution_count": null,
   "metadata": {},
   "outputs": [],
   "source": [
    "metrics = metrics.query('`Auth. Status` != \"denied\"')"
   ]
  },
  {
   "attachments": {},
   "cell_type": "markdown",
   "metadata": {},
   "source": [
    "Below divides everything into different tabs for the sheet."
   ]
  },
  {
   "cell_type": "code",
   "execution_count": null,
   "metadata": {},
   "outputs": [],
   "source": [
    "AZ = metrics[metrics['State(s) Located In'].str.upper().str.contains('AZ')]\n",
    "CO = metrics[metrics['State(s) Located In'].str.upper().str.contains('CO')]\n",
    "NM = metrics[metrics['State(s) Located In'].str.upper().str.contains('NM')]\n",
    "NV = metrics[metrics['State(s) Located In'].str.upper().str.contains('NV')]\n",
    "Other = metrics[~metrics['State(s) Located In'].str.upper().str.contains('AZ|CO|NM|NV')]"
   ]
  },
  {
   "cell_type": "code",
   "execution_count": null,
   "metadata": {},
   "outputs": [],
   "source": [
    "surround_states = {'AZ':AZ, 'CO':CO, 'NM':NM, 'NV':NV, 'Other':Other}\n",
    "total = 0\n",
    "for state_n, state_df in surround_states.items():\n",
    "    print(f'{state_n}: {state_df.shape[0]}')\n",
    "    total += state_df.shape[0]\n",
    "print(f'{total = }')\n",
    "\n",
    "AZ.to_clipboard(index=False)"
   ]
  },
  {
   "cell_type": "code",
   "execution_count": null,
   "metadata": {},
   "outputs": [],
   "source": [
    "writer = pd.ExcelWriter('Gateway Connections.xlsx')\n",
    "tabs = {\"Arizona\": AZ, \"Colorado\": CO, \"New Mexico\": NM, \"Nevada\": NV, \"Other\": Other}"
   ]
  },
  {
   "cell_type": "code",
   "execution_count": null,
   "metadata": {},
   "outputs": [],
   "source": [
    "for n, d in tabs.items():\n",
    "    d.to_excel(writer, index=False, sheet_name=n, engine='xlsxwriter')\n",
    "writer.close()"
   ]
  }
 ],
 "metadata": {
  "kernelspec": {
   "display_name": "Python 3",
   "language": "python",
   "name": "python3"
  },
  "language_info": {
   "codemirror_mode": {
    "name": "ipython",
    "version": 3
   },
   "file_extension": ".py",
   "mimetype": "text/x-python",
   "name": "python",
   "nbconvert_exporter": "python",
   "pygments_lexer": "ipython3",
   "version": "3.11.1"
  }
 },
 "nbformat": 4,
 "nbformat_minor": 2
}
