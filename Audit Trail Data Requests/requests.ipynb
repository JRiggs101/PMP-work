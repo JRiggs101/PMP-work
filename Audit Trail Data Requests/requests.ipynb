{
 "cells": [
  {
   "cell_type": "code",
   "execution_count": null,
   "metadata": {},
   "outputs": [],
   "source": [
    "import pandas as pd"
   ]
  },
  {
   "attachments": {},
   "cell_type": "markdown",
   "metadata": {},
   "source": [
    "Fill in patient names seperated by the | symbol and fill in prescriber name  \n",
    "set 'has' variables to True if you are using the file for that data  \n",
    "and False if not"
   ]
  },
  {
   "cell_type": "code",
   "execution_count": null,
   "metadata": {},
   "outputs": [],
   "source": [
    "list_names = \"\" # Names separated by pipe symbols\n",
    "prescriber_name = \"\" \n",
    "has_before_17 = True\n",
    "has_after_17 = True"
   ]
  },
  {
   "attachments": {},
   "cell_type": "markdown",
   "metadata": {},
   "source": [
    "import files"
   ]
  },
  {
   "cell_type": "code",
   "execution_count": null,
   "metadata": {},
   "outputs": [],
   "source": [
    "before_17 = pd.read_csv('data/historic_audit_data.csv', index_col=None)\n",
    "after_17 = pd.read_csv('data/RxSearchRequestsHistory.csv', index_col=None)\n",
    "\n"
   ]
  },
  {
   "attachments": {},
   "cell_type": "markdown",
   "metadata": {},
   "source": [
    "Before 2017"
   ]
  },
  {
   "cell_type": "code",
   "execution_count": null,
   "metadata": {},
   "outputs": [],
   "source": [
    "before_17['Lastname'].fillna('NONAME', inplace=True)\n",
    "before_17_patients = before_17[before_17['Lastname'].str.upper().str.contains(list_names)]\n",
    "before_17_patients"
   ]
  },
  {
   "attachments": {},
   "cell_type": "markdown",
   "metadata": {},
   "source": [
    "After 2017"
   ]
  },
  {
   "cell_type": "code",
   "execution_count": null,
   "metadata": {},
   "outputs": [],
   "source": [
    "after_17_patients = after_17[after_17['Last name'].str.upper().str.contains(list_names)]\n",
    "after_17_patients"
   ]
  },
  {
   "attachments": {},
   "cell_type": "markdown",
   "metadata": {},
   "source": [
    "Export to Excel"
   ]
  },
  {
   "cell_type": "code",
   "execution_count": null,
   "metadata": {},
   "outputs": [],
   "source": [
    "writer = pd.ExcelWriter(f'data/{prescriber_name}_RxSearchRequestHistory.xlsx')"
   ]
  },
  {
   "cell_type": "code",
   "execution_count": null,
   "metadata": {},
   "outputs": [],
   "source": [
    "if has_before_17 and not before_17_patients.empty:\n",
    "    before_17_patients.to_excel(writer, index=False, sheet_name='before_2017')\n",
    "if has_after_17 and not after_17_patients.empty:\n",
    "    after_17_patients.to_excel(writer, index=False, sheet_name='after_2017')\n",
    "\n",
    "writer.close()\n"
   ]
  }
 ],
 "metadata": {
  "kernelspec": {
   "display_name": "Python 3",
   "language": "python",
   "name": "python3"
  },
  "language_info": {
   "codemirror_mode": {
    "name": "ipython",
    "version": 3
   },
   "file_extension": ".py",
   "mimetype": "text/x-python",
   "name": "python",
   "nbconvert_exporter": "python",
   "pygments_lexer": "ipython3",
   "version": "3.11.1"
  },
  "vscode": {
   "interpreter": {
    "hash": "b74a385875f60cccf8ad55b84a634764b5ccd2b15141a631231131f670b425ee"
   }
  }
 },
 "nbformat": 4,
 "nbformat_minor": 2
}
