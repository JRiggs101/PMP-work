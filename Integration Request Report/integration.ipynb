{
 "cells": [
  {
   "cell_type": "code",
   "execution_count": null,
   "metadata": {},
   "outputs": [],
   "source": [
    "import pandas as pd"
   ]
  },
  {
   "cell_type": "code",
   "execution_count": null,
   "metadata": {},
   "outputs": [],
   "source": [
    "int_file = pd.read_csv('data/Arizona Integration Request Report.csv', index_col=None)"
   ]
  },
  {
   "cell_type": "code",
   "execution_count": null,
   "metadata": {},
   "outputs": [],
   "source": [
    "int_file.head()"
   ]
  },
  {
   "cell_type": "code",
   "execution_count": null,
   "metadata": {},
   "outputs": [],
   "source": [
    "int_file['Area Of Business'].fillna(\"N/A\", inplace=True)\n",
    "int_file['Area Of Business'].value_counts()"
   ]
  },
  {
   "cell_type": "code",
   "execution_count": null,
   "metadata": {},
   "outputs": [],
   "source": [
    "physician = int_file[int_file['Area Of Business'].str.upper().str.contains('PHYSICIAN|DENTIST')]\n",
    "health_system = int_file[int_file['Area Of Business'].str.upper().str.contains('HEALTH SYSTEM')]\n",
    "hospital = int_file[int_file['Area Of Business'].str.upper().str.contains('HOSPITAL')]\n",
    "pharmacy = int_file[int_file['Area Of Business'].str.upper().str.contains('PHARMACY')]\n",
    "other = int_file[int_file['Area Of Business'].str.upper().str.contains('OTHER')]\n",
    "practice = int_file[int_file['Area Of Business'].str.upper().str.contains('PRACTICE')]\n",
    "nah = int_file[int_file['Area Of Business'].str.upper().str.contains('N/A')]\n",
    "no_match = int_file[~int_file['Area Of Business'].str.upper().str.contains('PHYSICIAN|DENTIST|HEALTH SYSTEM|HOSPITAL|PHARMACY|OTHER|PRACTICE|N/A')]\n",
    "no_match\n"
   ]
  },
  {
   "cell_type": "code",
   "execution_count": null,
   "metadata": {},
   "outputs": [],
   "source": [
    "writer = pd.ExcelWriter('data/AZ Int Requests.xlsx')\n",
    "tabs = {\"Physician's Office\": physician, 'Health system': health_system, 'Hospital': hospital, \"Pharmacy\": pharmacy, \n",
    "        \n",
    "         \"Practice\": practice, \"Other\": other, \"N-A\": nah  \n",
    "        }"
   ]
  },
  {
   "cell_type": "code",
   "execution_count": null,
   "metadata": {},
   "outputs": [],
   "source": [
    "for n, d in tabs.items():\n",
    "    d.to_excel(writer, index=False, sheet_name=n, engine='xlsxwriter')\n",
    "writer.close()"
   ]
  }
 ],
 "metadata": {
  "kernelspec": {
   "display_name": "Python 3",
   "language": "python",
   "name": "python3"
  },
  "language_info": {
   "codemirror_mode": {
    "name": "ipython",
    "version": 3
   },
   "file_extension": ".py",
   "mimetype": "text/x-python",
   "name": "python",
   "nbconvert_exporter": "python",
   "pygments_lexer": "ipython3",
   "version": "3.11.1"
  },
  "vscode": {
   "interpreter": {
    "hash": "b74a385875f60cccf8ad55b84a634764b5ccd2b15141a631231131f670b425ee"
   }
  }
 },
 "nbformat": 4,
 "nbformat_minor": 2
}
