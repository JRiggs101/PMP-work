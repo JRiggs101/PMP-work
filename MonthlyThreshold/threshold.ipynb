{
 "cells": [
  {
   "cell_type": "code",
   "execution_count": null,
   "metadata": {},
   "outputs": [],
   "source": [
    "import pandas as pd\n",
    "import datetime"
   ]
  },
  {
   "cell_type": "code",
   "execution_count": null,
   "metadata": {},
   "outputs": [],
   "source": [
    "thresh_file = pd.read_csv('data/AZ 3x3.csv', index_col=None)"
   ]
  },
  {
   "cell_type": "code",
   "execution_count": null,
   "metadata": {},
   "outputs": [],
   "source": [
    "thresh_file.shape[0]"
   ]
  },
  {
   "cell_type": "code",
   "execution_count": null,
   "metadata": {},
   "outputs": [],
   "source": [
    "thresh_file['Email'].fillna('EMPTY', inplace=True)"
   ]
  },
  {
   "cell_type": "code",
   "execution_count": null,
   "metadata": {},
   "outputs": [],
   "source": [
    "failed_to_send = thresh_file[thresh_file['Email'].str.upper().str.contains(r'\\b(0|EMPTY|NONE@EMAIL.COM|NONE@NONE.COM|NONE@GMAIL.COM)\\b')]\n",
    "success = thresh_file.shape[0] - failed_to_send.shape[0]\n",
    "print(f'{success = }')\n",
    "print(f'fail = {failed_to_send.shape[0]}')"
   ]
  },
  {
   "cell_type": "code",
   "execution_count": null,
   "metadata": {},
   "outputs": [],
   "source": [
    "today = datetime.date.today()\n",
    "first = today.replace(day=1)\n",
    "last_month_date = first - datetime.timedelta(days=1)\n",
    "date_str = last_month_date.strftime('%y-%B')\n",
    "out_cols = ['date', 'pats', 'sent', 'not sent', '%']\n",
    "perc = round(((success / (success + failed_to_send.shape[0])) * 100), 2)\n",
    "perc = f'{perc}%'\n",
    "out = [[date_str, 'fillhere', success, failed_to_send.shape[0], perc]]\n",
    "out_df = pd.DataFrame(out, columns=out_cols)\n",
    "print(out_df)\n",
    "out_df.to_clipboard(index=False, header=False)\n",
    "print('copied to clipboard')"
   ]
  }
 ],
 "metadata": {
  "kernelspec": {
   "display_name": "Python 3",
   "language": "python",
   "name": "python3"
  },
  "language_info": {
   "codemirror_mode": {
    "name": "ipython",
    "version": 3
   },
   "file_extension": ".py",
   "mimetype": "text/x-python",
   "name": "python",
   "nbconvert_exporter": "python",
   "pygments_lexer": "ipython3",
   "version": "3.11.1"
  },
  "vscode": {
   "interpreter": {
    "hash": "b74a385875f60cccf8ad55b84a634764b5ccd2b15141a631231131f670b425ee"
   }
  }
 },
 "nbformat": 4,
 "nbformat_minor": 2
}
