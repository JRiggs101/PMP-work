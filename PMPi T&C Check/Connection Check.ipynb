{
 "cells": [
  {
   "cell_type": "code",
   "execution_count": null,
   "metadata": {},
   "outputs": [],
   "source": [
    "import pandas as pd\n",
    "from fuzzywuzzy import process, fuzz"
   ]
  },
  {
   "cell_type": "code",
   "execution_count": null,
   "metadata": {},
   "outputs": [],
   "source": [
    "terms = pd.read_csv('tc files.csv', index_col=None)\n",
    "gateway = pd.read_excel('Gateway Connections.xlsx', index_col=None)"
   ]
  },
  {
   "cell_type": "code",
   "execution_count": null,
   "metadata": {},
   "outputs": [],
   "source": [
    "terms.info()"
   ]
  },
  {
   "cell_type": "code",
   "execution_count": null,
   "metadata": {},
   "outputs": [],
   "source": [
    "gateway.info()"
   ]
  },
  {
   "cell_type": "code",
   "execution_count": null,
   "metadata": {},
   "outputs": [],
   "source": [
    "gateway['clean_licensee'] = gateway['Licensee'].str.split(pat=' (', n=1, regex=False)\n",
    "gateway['clean_licensee'] = gateway['clean_licensee'].str[0].str.upper()"
   ]
  },
  {
   "cell_type": "code",
   "execution_count": null,
   "metadata": {},
   "outputs": [],
   "source": [
    "gateway = gateway.assign(match=gateway.clean_licensee.isin(terms.org_name))\n",
    "matches = gateway.copy()\n",
    "no_match = gateway.copy()\n",
    "matches = matches.query('match == True')\n",
    "no_match = no_match.query('match == False')"
   ]
  },
  {
   "cell_type": "code",
   "execution_count": null,
   "metadata": {},
   "outputs": [],
   "source": [
    "no_match.sample()\n"
   ]
  },
  {
   "cell_type": "code",
   "execution_count": null,
   "metadata": {},
   "outputs": [],
   "source": [
    "def closest_match(on):\n",
    "    high_score = 0\n",
    "    closest = ''\n",
    "    for row in terms['org_name']:\n",
    "        score = fuzz.partial_ratio(on, row)\n",
    "        if score > high_score:\n",
    "            high_score = score\n",
    "            closest = row\n",
    "    return closest\n"
   ]
  },
  {
   "cell_type": "code",
   "execution_count": null,
   "metadata": {},
   "outputs": [],
   "source": [
    "def closest_score(on):\n",
    "    high_score = 0\n",
    "    for row in terms['org_name']:\n",
    "        score = fuzz.partial_ratio(on, row)\n",
    "        if score > high_score:\n",
    "            high_score = score\n",
    "    return high_score"
   ]
  },
  {
   "cell_type": "code",
   "execution_count": null,
   "metadata": {},
   "outputs": [],
   "source": [
    "no_match['closest'] = no_match['clean_licensee'].map(closest_match)"
   ]
  },
  {
   "cell_type": "code",
   "execution_count": null,
   "metadata": {},
   "outputs": [],
   "source": [
    "no_match['score'] = no_match['clean_licensee'].map(closest_score)"
   ]
  },
  {
   "cell_type": "code",
   "execution_count": null,
   "metadata": {},
   "outputs": [],
   "source": [
    "no_match.to_clipboard(index=False)"
   ]
  }
 ],
 "metadata": {
  "kernelspec": {
   "display_name": "Python 3",
   "language": "python",
   "name": "python3"
  },
  "language_info": {
   "codemirror_mode": {
    "name": "ipython",
    "version": 3
   },
   "file_extension": ".py",
   "mimetype": "text/x-python",
   "name": "python",
   "nbconvert_exporter": "python",
   "pygments_lexer": "ipython3",
   "version": "3.11.1"
  }
 },
 "nbformat": 4,
 "nbformat_minor": 2
}
